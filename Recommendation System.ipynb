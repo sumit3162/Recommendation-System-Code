{
 "cells": [
  {
   "cell_type": "code",
   "execution_count": 4,
   "id": "9c7462a0",
   "metadata": {},
   "outputs": [
    {
     "name": "stdout",
     "output_type": "stream",
     "text": [
      "Recommendations for User1: ['Movie3']\n"
     ]
    }
   ],
   "source": [
    "# Recommendation System with Collaborative Filtering\n",
    "import numpy as np\n",
    "import pandas as pd\n",
    "from sklearn.decomposition import NMF\n",
    "from sklearn.metrics import mean_squared_error\n",
    "\n",
    "# Sample user-item ratings matrix (replace with your dataset)\n",
    "ratings = {\n",
    "    'User1': [5, 3, 0, 1],\n",
    "    'User2': [4, 0, 0, 1],\n",
    "    'User3': [1, 1, 0, 5],\n",
    "    'User4': [1, 0, 0, 4],\n",
    "    'User5': [0, 1, 5, 4]\n",
    "}\n",
    "df = pd.DataFrame(ratings, index=['Movie1', 'Movie2', 'Movie3', 'Movie4']).T\n",
    "\n",
    "# Matrix Factorization with NMF\n",
    "model = NMF(n_components=2, init='random', random_state=42)\n",
    "W = model.fit_transform(df)\n",
    "H = model.components_\n",
    "\n",
    "# Reconstruct the matrix\n",
    "predicted_ratings = np.dot(W, H)\n",
    "\n",
    "# Create recommendations\n",
    "def recommend_movies(user_index, n_recommendations=2):\n",
    "    user_ratings = predicted_ratings[user_index]\n",
    "    rated_movies = np.where(df.iloc[user_index] > 0)[0]  # Already rated\n",
    "    recommendations = []\n",
    "    \n",
    "    for i in range(len(user_ratings)):\n",
    "        if i not in rated_movies:\n",
    "            recommendations.append((i, user_ratings[i]))\n",
    "    \n",
    "    # Sort by predicted rating and return top n\n",
    "    recommendations.sort(key=lambda x: x[1], reverse=True)\n",
    "    return [df.columns[i] for i, _ in recommendations[:n_recommendations]]\n",
    "\n",
    "# Example recommendation\n",
    "print(\"Recommendations for User1:\", recommend_movies(0))"
   ]
  }
 ],
 "metadata": {
  "kernelspec": {
   "display_name": "base",
   "language": "python",
   "name": "python3"
  },
  "language_info": {
   "codemirror_mode": {
    "name": "ipython",
    "version": 3
   },
   "file_extension": ".py",
   "mimetype": "text/x-python",
   "name": "python",
   "nbconvert_exporter": "python",
   "pygments_lexer": "ipython3",
   "version": "3.12.7"
  }
 },
 "nbformat": 4,
 "nbformat_minor": 5
}
